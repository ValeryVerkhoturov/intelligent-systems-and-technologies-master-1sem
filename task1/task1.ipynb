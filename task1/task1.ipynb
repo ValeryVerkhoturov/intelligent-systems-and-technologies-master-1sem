{
 "cells": [
  {
   "cell_type": "markdown",
   "source": [
    "# Clean dataset"
   ],
   "metadata": {
    "collapsed": false
   },
   "id": "5b0849be6f90c6c7"
  },
  {
   "cell_type": "code",
   "execution_count": 25,
   "outputs": [],
   "source": [
    "from IPython.core.display_functions import display\n",
    "\n",
    "import numpy as np\n",
    "import pandas as pd"
   ],
   "metadata": {
    "collapsed": false,
    "ExecuteTime": {
     "end_time": "2024-10-04T15:24:26.699879Z",
     "start_time": "2024-10-04T15:24:26.680507Z"
    }
   },
   "id": "initial_id"
  },
  {
   "cell_type": "code",
   "execution_count": 44,
   "outputs": [],
   "source": [
    "df = pd.read_excel(\"task1.xlsx\")"
   ],
   "metadata": {
    "collapsed": false,
    "ExecuteTime": {
     "end_time": "2024-10-04T15:33:46.985780Z",
     "start_time": "2024-10-04T15:33:46.937064Z"
    }
   },
   "id": "57d432c37b92d35f"
  },
  {
   "cell_type": "code",
   "execution_count": 45,
   "outputs": [
    {
     "data": {
      "text/plain": "    Ваш пол  Возраст    Характер Что вы предпочитаете?  \\\n0   Женский       22     Холерик                  Кофе   \n1   Мужской       22     Холерик                   Чай   \n2   Мужской       22  Меланхолик                  Кофе   \n3   Мужской       22   Флегматик                   Чай   \n4   Мужской       21   Флегматик                   Чай   \n5   Мужской       22   Флегматик                  Кофе   \n6   Мужской       21   Флегматик                   Чай   \n7   Женский       21  Меланхолик                   Чай   \n8   Мужской       22  Меланхолик                  Кофе   \n9   Мужской       22     Холерик                  Кофе   \n10  Мужской       22  Меланхолик                   Чай   \n11  Мужской       21   Флегматик                   Чай   \n12  Мужской       21   Сангвиник                  Кофе   \n13  Мужской       21   Сангвиник                  Кофе   \n14  Мужской       21     Холерик                  Кофе   \n15  Мужской       21     Холерик                   Чай   \n16  Мужской       21   Сангвиник                  Кофе   \n17  Мужской       21   Флегматик                  Кофе   \n18  Мужской       22  Меланхолик                   Чай   \n19  Мужской       22   Флегматик                   Чай   \n20  Мужской       21   Флегматик                   Чай   \n21  Мужской       22   Флегматик                   Чай   \n22  Мужской       22   Флегматик                  Кофе   \n23  Мужской       21     Холерик                   Чай   \n24  Мужской       22   Сангвиник                   Чай   \n25  Женский       21   Сангвиник                  Кофе   \n26  Мужской       21   Флегматик                   Чай   \n27  Мужской       21  Меланхолик                  Кофе   \n28  Женский       24  Меланхолик                   Чай   \n29  Мужской       22   Сангвиник                   Чай   \n30  Мужской       22   Флегматик                   Чай   \n31  Женский       22   Сангвиник                   Чай   \n32  Женский       21     Холерик                   Чай   \n33  Мужской       21     Холерик                  Кофе   \n34  Мужской       22  Меланхолик                  Кофе   \n35  Мужской       21   Сангвиник                   Чай   \n36  Мужской       21  Меланхолик                  Кофе   \n37  Мужской       22  Меланхолик                   Чай   \n\n   Как часто вы берете инициативу в свои руки?  \\\n0                                 Периодически   \n1                                        Часто   \n2                                  Очень редко   \n3                                        Часто   \n4                                        Часто   \n5                                 Периодически   \n6                                        Редко   \n7                                 Периодически   \n8                                 Периодически   \n9                                        Часто   \n10                                       Редко   \n11                                       Часто   \n12                                Периодически   \n13                                       Редко   \n14                                       Часто   \n15                                       Часто   \n16                                Периодически   \n17                                       Редко   \n18                                Периодически   \n19                                Периодически   \n20                                Периодически   \n21                                Периодически   \n22                                Периодически   \n23                                Периодически   \n24                                 Очень часто   \n25                                       Часто   \n26                                Периодически   \n27                                       Редко   \n28                                Периодически   \n29                                 Очень часто   \n30                                 Очень часто   \n31                                Периодически   \n32                                Периодически   \n33                                       Часто   \n34                                Периодически   \n35                                Периодически   \n36                                Периодически   \n37                                       Часто   \n\n    Как часто вы берете инициативу в свои руки? / Баллы  \\\n0                                                 NaN     \n1                                                 NaN     \n2                                                 NaN     \n3                                                 NaN     \n4                                                 NaN     \n5                                                 NaN     \n6                                                 NaN     \n7                                                 NaN     \n8                                                 NaN     \n9                                                 NaN     \n10                                                NaN     \n11                                                NaN     \n12                                                NaN     \n13                                                NaN     \n14                                                NaN     \n15                                                NaN     \n16                                                NaN     \n17                                                NaN     \n18                                                NaN     \n19                                                NaN     \n20                                                NaN     \n21                                                NaN     \n22                                                NaN     \n23                                                NaN     \n24                                                NaN     \n25                                                NaN     \n26                                                NaN     \n27                                                NaN     \n28                                                NaN     \n29                                                NaN     \n30                                                NaN     \n31                                                NaN     \n32                                                NaN     \n33                                                NaN     \n34                                                NaN     \n35                                                NaN     \n36                                                NaN     \n37                                                NaN     \n\n   Как часто вы пропускаете завтраки?  \\\n0                         Очень часто   \n1                         Очень часто   \n2                               Часто   \n3                         Очень редко   \n4                               Редко   \n5                         Очень часто   \n6                               Часто   \n7                               Редко   \n8                         Очень редко   \n9                        Периодически   \n10                        Очень редко   \n11                        Очень часто   \n12                              Часто   \n13                        Очень часто   \n14                        Очень редко   \n15                              Редко   \n16                       Периодически   \n17                              Часто   \n18                       Периодически   \n19                              Редко   \n20                        Очень редко   \n21                              Часто   \n22                              Часто   \n23                              Часто   \n24                        Очень редко   \n25                              Часто   \n26                        Очень редко   \n27                              Редко   \n28                              Редко   \n29                        Очень часто   \n30                        Очень редко   \n31                        Очень часто   \n32                        Очень редко   \n33                        Очень часто   \n34                              Часто   \n35                              Редко   \n36                        Очень редко   \n37                        Очень часто   \n\n    Как часто вы пропускаете завтраки? / Баллы  Сколько спите ночью в среднем  \\\n0                                          NaN                             10   \n1                                          NaN                              6   \n2                                          NaN                              6   \n3                                          NaN                              6   \n4                                          NaN                              8   \n5                                          NaN                              5   \n6                                          NaN                              9   \n7                                          NaN                              7   \n8                                          NaN                              6   \n9                                          NaN                              7   \n10                                         NaN                              7   \n11                                         NaN                              7   \n12                                         NaN                              5   \n13                                         NaN                              9   \n14                                         NaN                              7   \n15                                         NaN                              7   \n16                                         NaN                              6   \n17                                         NaN                              8   \n18                                         NaN                              6   \n19                                         NaN                              6   \n20                                         NaN                              8   \n21                                         NaN                              8   \n22                                         NaN                              6   \n23                                         NaN                              7   \n24                                         NaN                             10   \n25                                         NaN                              6   \n26                                         NaN                              7   \n27                                         NaN                              9   \n28                                         NaN                              7   \n29                                         NaN                              8   \n30                                         NaN                              6   \n31                                         NaN                              7   \n32                                         NaN                              7   \n33                                         NaN                              5   \n34                                         NaN                              6   \n35                                         NaN                              8   \n36                                         NaN                             10   \n37                                         NaN                              7   \n\n   Гипертония  ... Любимое время года? Любимое время года? / Баллы  \\\n0         Нет  ...               Весна                         NaN   \n1          Да  ...               Весна                         NaN   \n2         Нет  ...               Весна                         NaN   \n3         Нет  ...                Лето                         NaN   \n4         Нет  ...               Осень                         NaN   \n5         Нет  ...               Весна                         NaN   \n6         Нет  ...               Весна                         NaN   \n7         Нет  ...                Зима                         NaN   \n8         Нет  ...                Зима                         NaN   \n9          Да  ...                Лето                         NaN   \n10        Нет  ...               Осень                         NaN   \n11         Да  ...                Зима                         NaN   \n12         Да  ...                Зима                         NaN   \n13        Нет  ...                Зима                         NaN   \n14        Нет  ...                Лето                         NaN   \n15        Нет  ...                Лето                         NaN   \n16        Нет  ...               Осень                         NaN   \n17        Нет  ...                Зима                         NaN   \n18        Нет  ...                Зима                         NaN   \n19        Нет  ...               Осень                         NaN   \n20        Нет  ...                Лето                         NaN   \n21        Нет  ...               Весна                         NaN   \n22        Нет  ...                Лето                         NaN   \n23        Нет  ...               Весна                         NaN   \n24        Нет  ...                Зима                         NaN   \n25        Нет  ...               Осень                         NaN   \n26        Нет  ...                Лето                         NaN   \n27        Нет  ...               Весна                         NaN   \n28        Нет  ...                Лето                         NaN   \n29        Нет  ...                Лето                         NaN   \n30        Нет  ...                Лето                         NaN   \n31        Нет  ...               Весна                         NaN   \n32        Нет  ...               Весна                         NaN   \n33        Нет  ...                Лето                         NaN   \n34        Нет  ...               Весна                         NaN   \n35        Нет  ...               Весна                         NaN   \n36        Нет  ...                Зима                         NaN   \n37        Нет  ...                Лето                         NaN   \n\n   Что пьют родители Что пьют родители / Баллы Какие напитки любите  \\\n0         Чай и кофе                       NaN             Холодные   \n1                Чай                       NaN             Холодные   \n2               Кофе                       NaN             Холодные   \n3         Чай и кофе                       NaN             Холодные   \n4         Чай и кофе                       NaN              Горячие   \n5         Чай и кофе                       NaN             Холодные   \n6         Чай и кофе                       NaN              Горячие   \n7               Кофе                       NaN              Горячие   \n8         Чай и кофе                       NaN             Холодные   \n9         Чай и кофе                       NaN              Горячие   \n10               Чай                       NaN              Горячие   \n11        Чай и кофе                       NaN             Холодные   \n12        Чай и кофе                       NaN              Горячие   \n13        Чай и кофе                       NaN             Холодные   \n14              Кофе                       NaN              Горячие   \n15        Чай и кофе                       NaN             Холодные   \n16        Чай и кофе                       NaN              Горячие   \n17        Чай и кофе                       NaN             Холодные   \n18              Кофе                       NaN              Горячие   \n19        Чай и кофе                       NaN             Холодные   \n20        Чай и кофе                       NaN             Холодные   \n21        Чай и кофе                       NaN              Горячие   \n22        Чай и кофе                       NaN             Холодные   \n23        Чай и кофе                       NaN             Холодные   \n24        Чай и кофе                       NaN              Горячие   \n25        Чай и кофе                       NaN             Холодные   \n26        Чай и кофе                       NaN             Холодные   \n27               Чай                       NaN             Холодные   \n28        Чай и кофе                       NaN              Горячие   \n29               Чай                       NaN             Холодные   \n30               Чай                       NaN              Горячие   \n31               Чай                       NaN             Холодные   \n32               Чай                       NaN              Горячие   \n33        Чай и кофе                       NaN              Горячие   \n34        Чай и кофе                       NaN             Холодные   \n35              Кофе                       NaN             Холодные   \n36        Чай и кофе                       NaN              Горячие   \n37        Чай и кофе                       NaN              Горячие   \n\n   Какие напитки любите / Баллы Азартен?  Набрано баллов Всего баллов  \\\n0                           NaN      Нет               0            0   \n1                           NaN       Да               0            0   \n2                           NaN      Нет               0            0   \n3                           NaN      Нет               0            0   \n4                           NaN      Нет               0            0   \n5                           NaN      Нет               0            0   \n6                           NaN      Нет               0            0   \n7                           NaN      Нет               0            0   \n8                           NaN       Да               0            0   \n9                           NaN      Нет               0            0   \n10                          NaN      Нет               0            0   \n11                          NaN       Да               0            0   \n12                          NaN      Нет               0            0   \n13                          NaN      Нет               0            0   \n14                          NaN      Нет               0            0   \n15                          NaN      Нет               0            0   \n16                          NaN      Нет               0            0   \n17                          NaN      Нет               0            0   \n18                          NaN      Нет               0            0   \n19                          NaN       Да               0            0   \n20                          NaN       Да               0            0   \n21                          NaN      Нет               0            0   \n22                          NaN      Нет               0            0   \n23                          NaN       Да               0            0   \n24                          NaN      Нет               0            0   \n25                          NaN      Нет               0            0   \n26                          NaN      Нет               0            0   \n27                          NaN       Да               0            0   \n28                          NaN      Нет               0            0   \n29                          NaN      Нет               0            0   \n30                          NaN      Нет               0            0   \n31                          NaN      Нет               0            0   \n32                          NaN       Да               0            0   \n33                          NaN      Нет               0            0   \n34                          NaN      Нет               0            0   \n35                          NaN      Нет               0            0   \n36                          NaN      Нет               0            0   \n37                          NaN       Да               0            0   \n\n   Результат теста  \n0              NaN  \n1              NaN  \n2              NaN  \n3              NaN  \n4              NaN  \n5              NaN  \n6              NaN  \n7              NaN  \n8              NaN  \n9              NaN  \n10             NaN  \n11             NaN  \n12             NaN  \n13             NaN  \n14             NaN  \n15             NaN  \n16             NaN  \n17             NaN  \n18             NaN  \n19             NaN  \n20             NaN  \n21             NaN  \n22             NaN  \n23             NaN  \n24             NaN  \n25             NaN  \n26             NaN  \n27             NaN  \n28             NaN  \n29             NaN  \n30             NaN  \n31             NaN  \n32             NaN  \n33             NaN  \n34             NaN  \n35             NaN  \n36             NaN  \n37             NaN  \n\n[38 rows x 36 columns]",
      "text/html": "<div>\n<style scoped>\n    .dataframe tbody tr th:only-of-type {\n        vertical-align: middle;\n    }\n\n    .dataframe tbody tr th {\n        vertical-align: top;\n    }\n\n    .dataframe thead th {\n        text-align: right;\n    }\n</style>\n<table border=\"1\" class=\"dataframe\">\n  <thead>\n    <tr style=\"text-align: right;\">\n      <th></th>\n      <th>Ваш пол</th>\n      <th>Возраст</th>\n      <th>Характер</th>\n      <th>Что вы предпочитаете?</th>\n      <th>Как часто вы берете инициативу в свои руки?</th>\n      <th>Как часто вы берете инициативу в свои руки? / Баллы</th>\n      <th>Как часто вы пропускаете завтраки?</th>\n      <th>Как часто вы пропускаете завтраки? / Баллы</th>\n      <th>Сколько спите ночью в среднем</th>\n      <th>Гипертония</th>\n      <th>...</th>\n      <th>Любимое время года?</th>\n      <th>Любимое время года? / Баллы</th>\n      <th>Что пьют родители</th>\n      <th>Что пьют родители / Баллы</th>\n      <th>Какие напитки любите</th>\n      <th>Какие напитки любите / Баллы</th>\n      <th>Азартен?</th>\n      <th>Набрано баллов</th>\n      <th>Всего баллов</th>\n      <th>Результат теста</th>\n    </tr>\n  </thead>\n  <tbody>\n    <tr>\n      <th>0</th>\n      <td>Женский</td>\n      <td>22</td>\n      <td>Холерик</td>\n      <td>Кофе</td>\n      <td>Периодически</td>\n      <td>NaN</td>\n      <td>Очень часто</td>\n      <td>NaN</td>\n      <td>10</td>\n      <td>Нет</td>\n      <td>...</td>\n      <td>Весна</td>\n      <td>NaN</td>\n      <td>Чай и кофе</td>\n      <td>NaN</td>\n      <td>Холодные</td>\n      <td>NaN</td>\n      <td>Нет</td>\n      <td>0</td>\n      <td>0</td>\n      <td>NaN</td>\n    </tr>\n    <tr>\n      <th>1</th>\n      <td>Мужской</td>\n      <td>22</td>\n      <td>Холерик</td>\n      <td>Чай</td>\n      <td>Часто</td>\n      <td>NaN</td>\n      <td>Очень часто</td>\n      <td>NaN</td>\n      <td>6</td>\n      <td>Да</td>\n      <td>...</td>\n      <td>Весна</td>\n      <td>NaN</td>\n      <td>Чай</td>\n      <td>NaN</td>\n      <td>Холодные</td>\n      <td>NaN</td>\n      <td>Да</td>\n      <td>0</td>\n      <td>0</td>\n      <td>NaN</td>\n    </tr>\n    <tr>\n      <th>2</th>\n      <td>Мужской</td>\n      <td>22</td>\n      <td>Меланхолик</td>\n      <td>Кофе</td>\n      <td>Очень редко</td>\n      <td>NaN</td>\n      <td>Часто</td>\n      <td>NaN</td>\n      <td>6</td>\n      <td>Нет</td>\n      <td>...</td>\n      <td>Весна</td>\n      <td>NaN</td>\n      <td>Кофе</td>\n      <td>NaN</td>\n      <td>Холодные</td>\n      <td>NaN</td>\n      <td>Нет</td>\n      <td>0</td>\n      <td>0</td>\n      <td>NaN</td>\n    </tr>\n    <tr>\n      <th>3</th>\n      <td>Мужской</td>\n      <td>22</td>\n      <td>Флегматик</td>\n      <td>Чай</td>\n      <td>Часто</td>\n      <td>NaN</td>\n      <td>Очень редко</td>\n      <td>NaN</td>\n      <td>6</td>\n      <td>Нет</td>\n      <td>...</td>\n      <td>Лето</td>\n      <td>NaN</td>\n      <td>Чай и кофе</td>\n      <td>NaN</td>\n      <td>Холодные</td>\n      <td>NaN</td>\n      <td>Нет</td>\n      <td>0</td>\n      <td>0</td>\n      <td>NaN</td>\n    </tr>\n    <tr>\n      <th>4</th>\n      <td>Мужской</td>\n      <td>21</td>\n      <td>Флегматик</td>\n      <td>Чай</td>\n      <td>Часто</td>\n      <td>NaN</td>\n      <td>Редко</td>\n      <td>NaN</td>\n      <td>8</td>\n      <td>Нет</td>\n      <td>...</td>\n      <td>Осень</td>\n      <td>NaN</td>\n      <td>Чай и кофе</td>\n      <td>NaN</td>\n      <td>Горячие</td>\n      <td>NaN</td>\n      <td>Нет</td>\n      <td>0</td>\n      <td>0</td>\n      <td>NaN</td>\n    </tr>\n    <tr>\n      <th>5</th>\n      <td>Мужской</td>\n      <td>22</td>\n      <td>Флегматик</td>\n      <td>Кофе</td>\n      <td>Периодически</td>\n      <td>NaN</td>\n      <td>Очень часто</td>\n      <td>NaN</td>\n      <td>5</td>\n      <td>Нет</td>\n      <td>...</td>\n      <td>Весна</td>\n      <td>NaN</td>\n      <td>Чай и кофе</td>\n      <td>NaN</td>\n      <td>Холодные</td>\n      <td>NaN</td>\n      <td>Нет</td>\n      <td>0</td>\n      <td>0</td>\n      <td>NaN</td>\n    </tr>\n    <tr>\n      <th>6</th>\n      <td>Мужской</td>\n      <td>21</td>\n      <td>Флегматик</td>\n      <td>Чай</td>\n      <td>Редко</td>\n      <td>NaN</td>\n      <td>Часто</td>\n      <td>NaN</td>\n      <td>9</td>\n      <td>Нет</td>\n      <td>...</td>\n      <td>Весна</td>\n      <td>NaN</td>\n      <td>Чай и кофе</td>\n      <td>NaN</td>\n      <td>Горячие</td>\n      <td>NaN</td>\n      <td>Нет</td>\n      <td>0</td>\n      <td>0</td>\n      <td>NaN</td>\n    </tr>\n    <tr>\n      <th>7</th>\n      <td>Женский</td>\n      <td>21</td>\n      <td>Меланхолик</td>\n      <td>Чай</td>\n      <td>Периодически</td>\n      <td>NaN</td>\n      <td>Редко</td>\n      <td>NaN</td>\n      <td>7</td>\n      <td>Нет</td>\n      <td>...</td>\n      <td>Зима</td>\n      <td>NaN</td>\n      <td>Кофе</td>\n      <td>NaN</td>\n      <td>Горячие</td>\n      <td>NaN</td>\n      <td>Нет</td>\n      <td>0</td>\n      <td>0</td>\n      <td>NaN</td>\n    </tr>\n    <tr>\n      <th>8</th>\n      <td>Мужской</td>\n      <td>22</td>\n      <td>Меланхолик</td>\n      <td>Кофе</td>\n      <td>Периодически</td>\n      <td>NaN</td>\n      <td>Очень редко</td>\n      <td>NaN</td>\n      <td>6</td>\n      <td>Нет</td>\n      <td>...</td>\n      <td>Зима</td>\n      <td>NaN</td>\n      <td>Чай и кофе</td>\n      <td>NaN</td>\n      <td>Холодные</td>\n      <td>NaN</td>\n      <td>Да</td>\n      <td>0</td>\n      <td>0</td>\n      <td>NaN</td>\n    </tr>\n    <tr>\n      <th>9</th>\n      <td>Мужской</td>\n      <td>22</td>\n      <td>Холерик</td>\n      <td>Кофе</td>\n      <td>Часто</td>\n      <td>NaN</td>\n      <td>Периодически</td>\n      <td>NaN</td>\n      <td>7</td>\n      <td>Да</td>\n      <td>...</td>\n      <td>Лето</td>\n      <td>NaN</td>\n      <td>Чай и кофе</td>\n      <td>NaN</td>\n      <td>Горячие</td>\n      <td>NaN</td>\n      <td>Нет</td>\n      <td>0</td>\n      <td>0</td>\n      <td>NaN</td>\n    </tr>\n    <tr>\n      <th>10</th>\n      <td>Мужской</td>\n      <td>22</td>\n      <td>Меланхолик</td>\n      <td>Чай</td>\n      <td>Редко</td>\n      <td>NaN</td>\n      <td>Очень редко</td>\n      <td>NaN</td>\n      <td>7</td>\n      <td>Нет</td>\n      <td>...</td>\n      <td>Осень</td>\n      <td>NaN</td>\n      <td>Чай</td>\n      <td>NaN</td>\n      <td>Горячие</td>\n      <td>NaN</td>\n      <td>Нет</td>\n      <td>0</td>\n      <td>0</td>\n      <td>NaN</td>\n    </tr>\n    <tr>\n      <th>11</th>\n      <td>Мужской</td>\n      <td>21</td>\n      <td>Флегматик</td>\n      <td>Чай</td>\n      <td>Часто</td>\n      <td>NaN</td>\n      <td>Очень часто</td>\n      <td>NaN</td>\n      <td>7</td>\n      <td>Да</td>\n      <td>...</td>\n      <td>Зима</td>\n      <td>NaN</td>\n      <td>Чай и кофе</td>\n      <td>NaN</td>\n      <td>Холодные</td>\n      <td>NaN</td>\n      <td>Да</td>\n      <td>0</td>\n      <td>0</td>\n      <td>NaN</td>\n    </tr>\n    <tr>\n      <th>12</th>\n      <td>Мужской</td>\n      <td>21</td>\n      <td>Сангвиник</td>\n      <td>Кофе</td>\n      <td>Периодически</td>\n      <td>NaN</td>\n      <td>Часто</td>\n      <td>NaN</td>\n      <td>5</td>\n      <td>Да</td>\n      <td>...</td>\n      <td>Зима</td>\n      <td>NaN</td>\n      <td>Чай и кофе</td>\n      <td>NaN</td>\n      <td>Горячие</td>\n      <td>NaN</td>\n      <td>Нет</td>\n      <td>0</td>\n      <td>0</td>\n      <td>NaN</td>\n    </tr>\n    <tr>\n      <th>13</th>\n      <td>Мужской</td>\n      <td>21</td>\n      <td>Сангвиник</td>\n      <td>Кофе</td>\n      <td>Редко</td>\n      <td>NaN</td>\n      <td>Очень часто</td>\n      <td>NaN</td>\n      <td>9</td>\n      <td>Нет</td>\n      <td>...</td>\n      <td>Зима</td>\n      <td>NaN</td>\n      <td>Чай и кофе</td>\n      <td>NaN</td>\n      <td>Холодные</td>\n      <td>NaN</td>\n      <td>Нет</td>\n      <td>0</td>\n      <td>0</td>\n      <td>NaN</td>\n    </tr>\n    <tr>\n      <th>14</th>\n      <td>Мужской</td>\n      <td>21</td>\n      <td>Холерик</td>\n      <td>Кофе</td>\n      <td>Часто</td>\n      <td>NaN</td>\n      <td>Очень редко</td>\n      <td>NaN</td>\n      <td>7</td>\n      <td>Нет</td>\n      <td>...</td>\n      <td>Лето</td>\n      <td>NaN</td>\n      <td>Кофе</td>\n      <td>NaN</td>\n      <td>Горячие</td>\n      <td>NaN</td>\n      <td>Нет</td>\n      <td>0</td>\n      <td>0</td>\n      <td>NaN</td>\n    </tr>\n    <tr>\n      <th>15</th>\n      <td>Мужской</td>\n      <td>21</td>\n      <td>Холерик</td>\n      <td>Чай</td>\n      <td>Часто</td>\n      <td>NaN</td>\n      <td>Редко</td>\n      <td>NaN</td>\n      <td>7</td>\n      <td>Нет</td>\n      <td>...</td>\n      <td>Лето</td>\n      <td>NaN</td>\n      <td>Чай и кофе</td>\n      <td>NaN</td>\n      <td>Холодные</td>\n      <td>NaN</td>\n      <td>Нет</td>\n      <td>0</td>\n      <td>0</td>\n      <td>NaN</td>\n    </tr>\n    <tr>\n      <th>16</th>\n      <td>Мужской</td>\n      <td>21</td>\n      <td>Сангвиник</td>\n      <td>Кофе</td>\n      <td>Периодически</td>\n      <td>NaN</td>\n      <td>Периодически</td>\n      <td>NaN</td>\n      <td>6</td>\n      <td>Нет</td>\n      <td>...</td>\n      <td>Осень</td>\n      <td>NaN</td>\n      <td>Чай и кофе</td>\n      <td>NaN</td>\n      <td>Горячие</td>\n      <td>NaN</td>\n      <td>Нет</td>\n      <td>0</td>\n      <td>0</td>\n      <td>NaN</td>\n    </tr>\n    <tr>\n      <th>17</th>\n      <td>Мужской</td>\n      <td>21</td>\n      <td>Флегматик</td>\n      <td>Кофе</td>\n      <td>Редко</td>\n      <td>NaN</td>\n      <td>Часто</td>\n      <td>NaN</td>\n      <td>8</td>\n      <td>Нет</td>\n      <td>...</td>\n      <td>Зима</td>\n      <td>NaN</td>\n      <td>Чай и кофе</td>\n      <td>NaN</td>\n      <td>Холодные</td>\n      <td>NaN</td>\n      <td>Нет</td>\n      <td>0</td>\n      <td>0</td>\n      <td>NaN</td>\n    </tr>\n    <tr>\n      <th>18</th>\n      <td>Мужской</td>\n      <td>22</td>\n      <td>Меланхолик</td>\n      <td>Чай</td>\n      <td>Периодически</td>\n      <td>NaN</td>\n      <td>Периодически</td>\n      <td>NaN</td>\n      <td>6</td>\n      <td>Нет</td>\n      <td>...</td>\n      <td>Зима</td>\n      <td>NaN</td>\n      <td>Кофе</td>\n      <td>NaN</td>\n      <td>Горячие</td>\n      <td>NaN</td>\n      <td>Нет</td>\n      <td>0</td>\n      <td>0</td>\n      <td>NaN</td>\n    </tr>\n    <tr>\n      <th>19</th>\n      <td>Мужской</td>\n      <td>22</td>\n      <td>Флегматик</td>\n      <td>Чай</td>\n      <td>Периодически</td>\n      <td>NaN</td>\n      <td>Редко</td>\n      <td>NaN</td>\n      <td>6</td>\n      <td>Нет</td>\n      <td>...</td>\n      <td>Осень</td>\n      <td>NaN</td>\n      <td>Чай и кофе</td>\n      <td>NaN</td>\n      <td>Холодные</td>\n      <td>NaN</td>\n      <td>Да</td>\n      <td>0</td>\n      <td>0</td>\n      <td>NaN</td>\n    </tr>\n    <tr>\n      <th>20</th>\n      <td>Мужской</td>\n      <td>21</td>\n      <td>Флегматик</td>\n      <td>Чай</td>\n      <td>Периодически</td>\n      <td>NaN</td>\n      <td>Очень редко</td>\n      <td>NaN</td>\n      <td>8</td>\n      <td>Нет</td>\n      <td>...</td>\n      <td>Лето</td>\n      <td>NaN</td>\n      <td>Чай и кофе</td>\n      <td>NaN</td>\n      <td>Холодные</td>\n      <td>NaN</td>\n      <td>Да</td>\n      <td>0</td>\n      <td>0</td>\n      <td>NaN</td>\n    </tr>\n    <tr>\n      <th>21</th>\n      <td>Мужской</td>\n      <td>22</td>\n      <td>Флегматик</td>\n      <td>Чай</td>\n      <td>Периодически</td>\n      <td>NaN</td>\n      <td>Часто</td>\n      <td>NaN</td>\n      <td>8</td>\n      <td>Нет</td>\n      <td>...</td>\n      <td>Весна</td>\n      <td>NaN</td>\n      <td>Чай и кофе</td>\n      <td>NaN</td>\n      <td>Горячие</td>\n      <td>NaN</td>\n      <td>Нет</td>\n      <td>0</td>\n      <td>0</td>\n      <td>NaN</td>\n    </tr>\n    <tr>\n      <th>22</th>\n      <td>Мужской</td>\n      <td>22</td>\n      <td>Флегматик</td>\n      <td>Кофе</td>\n      <td>Периодически</td>\n      <td>NaN</td>\n      <td>Часто</td>\n      <td>NaN</td>\n      <td>6</td>\n      <td>Нет</td>\n      <td>...</td>\n      <td>Лето</td>\n      <td>NaN</td>\n      <td>Чай и кофе</td>\n      <td>NaN</td>\n      <td>Холодные</td>\n      <td>NaN</td>\n      <td>Нет</td>\n      <td>0</td>\n      <td>0</td>\n      <td>NaN</td>\n    </tr>\n    <tr>\n      <th>23</th>\n      <td>Мужской</td>\n      <td>21</td>\n      <td>Холерик</td>\n      <td>Чай</td>\n      <td>Периодически</td>\n      <td>NaN</td>\n      <td>Часто</td>\n      <td>NaN</td>\n      <td>7</td>\n      <td>Нет</td>\n      <td>...</td>\n      <td>Весна</td>\n      <td>NaN</td>\n      <td>Чай и кофе</td>\n      <td>NaN</td>\n      <td>Холодные</td>\n      <td>NaN</td>\n      <td>Да</td>\n      <td>0</td>\n      <td>0</td>\n      <td>NaN</td>\n    </tr>\n    <tr>\n      <th>24</th>\n      <td>Мужской</td>\n      <td>22</td>\n      <td>Сангвиник</td>\n      <td>Чай</td>\n      <td>Очень часто</td>\n      <td>NaN</td>\n      <td>Очень редко</td>\n      <td>NaN</td>\n      <td>10</td>\n      <td>Нет</td>\n      <td>...</td>\n      <td>Зима</td>\n      <td>NaN</td>\n      <td>Чай и кофе</td>\n      <td>NaN</td>\n      <td>Горячие</td>\n      <td>NaN</td>\n      <td>Нет</td>\n      <td>0</td>\n      <td>0</td>\n      <td>NaN</td>\n    </tr>\n    <tr>\n      <th>25</th>\n      <td>Женский</td>\n      <td>21</td>\n      <td>Сангвиник</td>\n      <td>Кофе</td>\n      <td>Часто</td>\n      <td>NaN</td>\n      <td>Часто</td>\n      <td>NaN</td>\n      <td>6</td>\n      <td>Нет</td>\n      <td>...</td>\n      <td>Осень</td>\n      <td>NaN</td>\n      <td>Чай и кофе</td>\n      <td>NaN</td>\n      <td>Холодные</td>\n      <td>NaN</td>\n      <td>Нет</td>\n      <td>0</td>\n      <td>0</td>\n      <td>NaN</td>\n    </tr>\n    <tr>\n      <th>26</th>\n      <td>Мужской</td>\n      <td>21</td>\n      <td>Флегматик</td>\n      <td>Чай</td>\n      <td>Периодически</td>\n      <td>NaN</td>\n      <td>Очень редко</td>\n      <td>NaN</td>\n      <td>7</td>\n      <td>Нет</td>\n      <td>...</td>\n      <td>Лето</td>\n      <td>NaN</td>\n      <td>Чай и кофе</td>\n      <td>NaN</td>\n      <td>Холодные</td>\n      <td>NaN</td>\n      <td>Нет</td>\n      <td>0</td>\n      <td>0</td>\n      <td>NaN</td>\n    </tr>\n    <tr>\n      <th>27</th>\n      <td>Мужской</td>\n      <td>21</td>\n      <td>Меланхолик</td>\n      <td>Кофе</td>\n      <td>Редко</td>\n      <td>NaN</td>\n      <td>Редко</td>\n      <td>NaN</td>\n      <td>9</td>\n      <td>Нет</td>\n      <td>...</td>\n      <td>Весна</td>\n      <td>NaN</td>\n      <td>Чай</td>\n      <td>NaN</td>\n      <td>Холодные</td>\n      <td>NaN</td>\n      <td>Да</td>\n      <td>0</td>\n      <td>0</td>\n      <td>NaN</td>\n    </tr>\n    <tr>\n      <th>28</th>\n      <td>Женский</td>\n      <td>24</td>\n      <td>Меланхолик</td>\n      <td>Чай</td>\n      <td>Периодически</td>\n      <td>NaN</td>\n      <td>Редко</td>\n      <td>NaN</td>\n      <td>7</td>\n      <td>Нет</td>\n      <td>...</td>\n      <td>Лето</td>\n      <td>NaN</td>\n      <td>Чай и кофе</td>\n      <td>NaN</td>\n      <td>Горячие</td>\n      <td>NaN</td>\n      <td>Нет</td>\n      <td>0</td>\n      <td>0</td>\n      <td>NaN</td>\n    </tr>\n    <tr>\n      <th>29</th>\n      <td>Мужской</td>\n      <td>22</td>\n      <td>Сангвиник</td>\n      <td>Чай</td>\n      <td>Очень часто</td>\n      <td>NaN</td>\n      <td>Очень часто</td>\n      <td>NaN</td>\n      <td>8</td>\n      <td>Нет</td>\n      <td>...</td>\n      <td>Лето</td>\n      <td>NaN</td>\n      <td>Чай</td>\n      <td>NaN</td>\n      <td>Холодные</td>\n      <td>NaN</td>\n      <td>Нет</td>\n      <td>0</td>\n      <td>0</td>\n      <td>NaN</td>\n    </tr>\n    <tr>\n      <th>30</th>\n      <td>Мужской</td>\n      <td>22</td>\n      <td>Флегматик</td>\n      <td>Чай</td>\n      <td>Очень часто</td>\n      <td>NaN</td>\n      <td>Очень редко</td>\n      <td>NaN</td>\n      <td>6</td>\n      <td>Нет</td>\n      <td>...</td>\n      <td>Лето</td>\n      <td>NaN</td>\n      <td>Чай</td>\n      <td>NaN</td>\n      <td>Горячие</td>\n      <td>NaN</td>\n      <td>Нет</td>\n      <td>0</td>\n      <td>0</td>\n      <td>NaN</td>\n    </tr>\n    <tr>\n      <th>31</th>\n      <td>Женский</td>\n      <td>22</td>\n      <td>Сангвиник</td>\n      <td>Чай</td>\n      <td>Периодически</td>\n      <td>NaN</td>\n      <td>Очень часто</td>\n      <td>NaN</td>\n      <td>7</td>\n      <td>Нет</td>\n      <td>...</td>\n      <td>Весна</td>\n      <td>NaN</td>\n      <td>Чай</td>\n      <td>NaN</td>\n      <td>Холодные</td>\n      <td>NaN</td>\n      <td>Нет</td>\n      <td>0</td>\n      <td>0</td>\n      <td>NaN</td>\n    </tr>\n    <tr>\n      <th>32</th>\n      <td>Женский</td>\n      <td>21</td>\n      <td>Холерик</td>\n      <td>Чай</td>\n      <td>Периодически</td>\n      <td>NaN</td>\n      <td>Очень редко</td>\n      <td>NaN</td>\n      <td>7</td>\n      <td>Нет</td>\n      <td>...</td>\n      <td>Весна</td>\n      <td>NaN</td>\n      <td>Чай</td>\n      <td>NaN</td>\n      <td>Горячие</td>\n      <td>NaN</td>\n      <td>Да</td>\n      <td>0</td>\n      <td>0</td>\n      <td>NaN</td>\n    </tr>\n    <tr>\n      <th>33</th>\n      <td>Мужской</td>\n      <td>21</td>\n      <td>Холерик</td>\n      <td>Кофе</td>\n      <td>Часто</td>\n      <td>NaN</td>\n      <td>Очень часто</td>\n      <td>NaN</td>\n      <td>5</td>\n      <td>Нет</td>\n      <td>...</td>\n      <td>Лето</td>\n      <td>NaN</td>\n      <td>Чай и кофе</td>\n      <td>NaN</td>\n      <td>Горячие</td>\n      <td>NaN</td>\n      <td>Нет</td>\n      <td>0</td>\n      <td>0</td>\n      <td>NaN</td>\n    </tr>\n    <tr>\n      <th>34</th>\n      <td>Мужской</td>\n      <td>22</td>\n      <td>Меланхолик</td>\n      <td>Кофе</td>\n      <td>Периодически</td>\n      <td>NaN</td>\n      <td>Часто</td>\n      <td>NaN</td>\n      <td>6</td>\n      <td>Нет</td>\n      <td>...</td>\n      <td>Весна</td>\n      <td>NaN</td>\n      <td>Чай и кофе</td>\n      <td>NaN</td>\n      <td>Холодные</td>\n      <td>NaN</td>\n      <td>Нет</td>\n      <td>0</td>\n      <td>0</td>\n      <td>NaN</td>\n    </tr>\n    <tr>\n      <th>35</th>\n      <td>Мужской</td>\n      <td>21</td>\n      <td>Сангвиник</td>\n      <td>Чай</td>\n      <td>Периодически</td>\n      <td>NaN</td>\n      <td>Редко</td>\n      <td>NaN</td>\n      <td>8</td>\n      <td>Нет</td>\n      <td>...</td>\n      <td>Весна</td>\n      <td>NaN</td>\n      <td>Кофе</td>\n      <td>NaN</td>\n      <td>Холодные</td>\n      <td>NaN</td>\n      <td>Нет</td>\n      <td>0</td>\n      <td>0</td>\n      <td>NaN</td>\n    </tr>\n    <tr>\n      <th>36</th>\n      <td>Мужской</td>\n      <td>21</td>\n      <td>Меланхолик</td>\n      <td>Кофе</td>\n      <td>Периодически</td>\n      <td>NaN</td>\n      <td>Очень редко</td>\n      <td>NaN</td>\n      <td>10</td>\n      <td>Нет</td>\n      <td>...</td>\n      <td>Зима</td>\n      <td>NaN</td>\n      <td>Чай и кофе</td>\n      <td>NaN</td>\n      <td>Горячие</td>\n      <td>NaN</td>\n      <td>Нет</td>\n      <td>0</td>\n      <td>0</td>\n      <td>NaN</td>\n    </tr>\n    <tr>\n      <th>37</th>\n      <td>Мужской</td>\n      <td>22</td>\n      <td>Меланхолик</td>\n      <td>Чай</td>\n      <td>Часто</td>\n      <td>NaN</td>\n      <td>Очень часто</td>\n      <td>NaN</td>\n      <td>7</td>\n      <td>Нет</td>\n      <td>...</td>\n      <td>Лето</td>\n      <td>NaN</td>\n      <td>Чай и кофе</td>\n      <td>NaN</td>\n      <td>Горячие</td>\n      <td>NaN</td>\n      <td>Да</td>\n      <td>0</td>\n      <td>0</td>\n      <td>NaN</td>\n    </tr>\n  </tbody>\n</table>\n<p>38 rows × 36 columns</p>\n</div>"
     },
     "execution_count": 45,
     "metadata": {},
     "output_type": "execute_result"
    }
   ],
   "source": [
    "df"
   ],
   "metadata": {
    "collapsed": false,
    "ExecuteTime": {
     "end_time": "2024-10-04T15:33:47.450053Z",
     "start_time": "2024-10-04T15:33:47.437974Z"
    }
   },
   "id": "ec25b69fe4efa6e9"
  },
  {
   "cell_type": "code",
   "execution_count": 46,
   "outputs": [
    {
     "data": {
      "text/plain": "['Ваш пол',\n 'Возраст',\n 'Характер',\n 'Что вы предпочитаете?',\n 'Как часто вы берете инициативу в свои руки?',\n 'Как часто вы берете инициативу в свои руки? / Баллы',\n 'Как часто вы пропускаете завтраки?',\n 'Как часто вы пропускаете завтраки? / Баллы',\n 'Сколько спите ночью в среднем',\n 'Гипертония',\n 'Курите?',\n 'Пьете энергетики?',\n 'Бывают ли проблемы со сном?',\n 'Повышенная тревожность?',\n 'Проблемы с концентрацией',\n 'Наличие кофейни возле дома',\n 'Какая культура ближе',\n 'Какая культура ближе / Баллы',\n 'Любишь ли горькое',\n 'Занимаетесь спортом?',\n 'Выпиваете алкоголь',\n 'Выпиваете алкоголь / Баллы',\n 'Время подъема',\n 'Формат работы',\n 'Формат работы / Баллы',\n 'Любите сладкое?',\n 'Любимое время года?',\n 'Любимое время года? / Баллы',\n 'Что пьют родители',\n 'Что пьют родители / Баллы',\n 'Какие напитки любите',\n 'Какие напитки любите / Баллы',\n 'Азартен?',\n 'Набрано баллов',\n 'Всего баллов',\n 'Результат теста']"
     },
     "execution_count": 46,
     "metadata": {},
     "output_type": "execute_result"
    }
   ],
   "source": [
    "df.columns.tolist()"
   ],
   "metadata": {
    "collapsed": false,
    "ExecuteTime": {
     "end_time": "2024-10-04T15:33:47.934273Z",
     "start_time": "2024-10-04T15:33:47.931805Z"
    }
   },
   "id": "c430049bcbb5d669"
  },
  {
   "cell_type": "code",
   "execution_count": 47,
   "outputs": [],
   "source": [
    "columns_to_remove = [\n",
    "    'Как часто вы берете инициативу в свои руки? / Баллы',\n",
    "    'Как часто вы пропускаете завтраки? / Баллы',\n",
    "    'Какая культура ближе / Баллы',   \n",
    "    'Выпиваете алкоголь / Баллы',\n",
    "    'Формат работы / Баллы',\n",
    "    'Любимое время года? / Баллы',\n",
    "    'Что пьют родители / Баллы',\n",
    "    'Какие напитки любите / Баллы',\n",
    "    'Набрано баллов',\n",
    "    'Всего баллов',\n",
    "    'Результат теста',\n",
    "]\n",
    "df = df.drop(columns=columns_to_remove)"
   ],
   "metadata": {
    "collapsed": false,
    "ExecuteTime": {
     "end_time": "2024-10-04T15:33:48.644164Z",
     "start_time": "2024-10-04T15:33:48.624681Z"
    }
   },
   "id": "152a0e5d38f1e8f6"
  },
  {
   "cell_type": "code",
   "execution_count": 48,
   "outputs": [],
   "source": [
    "df.to_csv(\"task1.csv\", mode=\"w+\", index=False)"
   ],
   "metadata": {
    "collapsed": false,
    "ExecuteTime": {
     "end_time": "2024-10-04T15:33:49.567709Z",
     "start_time": "2024-10-04T15:33:49.541837Z"
    }
   },
   "id": "63c514ac61d5d966"
  },
  {
   "cell_type": "markdown",
   "source": [
    "# Classification"
   ],
   "metadata": {
    "collapsed": false
   },
   "id": "a9cf0060d7acd1ef"
  },
  {
   "cell_type": "code",
   "execution_count": 49,
   "outputs": [],
   "source": [
    "import pandas as pd\n",
    "from sklearn.model_selection import train_test_split"
   ],
   "metadata": {
    "collapsed": false,
    "ExecuteTime": {
     "end_time": "2024-10-04T15:33:54.044753Z",
     "start_time": "2024-10-04T15:33:54.034463Z"
    }
   },
   "id": "e7a471ae0882c379"
  },
  {
   "cell_type": "code",
   "execution_count": 51,
   "outputs": [
    {
     "name": "stdout",
     "output_type": "stream",
     "text": [
      "Index(['Возраст', 'Сколько спите ночью в среднем', 'Время подъема',\n",
      "       'Ваш пол_Мужской', 'Характер_Сангвиник', 'Характер_Флегматик',\n",
      "       'Характер_Холерик', 'Что вы предпочитаете?_Чай',\n",
      "       'Как часто вы берете инициативу в свои руки?_Очень часто',\n",
      "       'Как часто вы берете инициативу в свои руки?_Периодически',\n",
      "       'Как часто вы берете инициативу в свои руки?_Редко',\n",
      "       'Как часто вы берете инициативу в свои руки?_Часто',\n",
      "       'Как часто вы пропускаете завтраки?_Очень часто',\n",
      "       'Как часто вы пропускаете завтраки?_Периодически',\n",
      "       'Как часто вы пропускаете завтраки?_Редко',\n",
      "       'Как часто вы пропускаете завтраки?_Часто', 'Гипертония_Нет',\n",
      "       'Курите?_Нет', 'Пьете энергетики?_Нет',\n",
      "       'Бывают ли проблемы со сном?_Нет', 'Повышенная тревожность?_Нет',\n",
      "       'Проблемы с концентрацией_Нет', 'Наличие кофейни возле дома_Нет',\n",
      "       'Какая культура ближе_Запад', 'Какая культура ближе_Не знаю',\n",
      "       'Любишь ли горькое_Нет', 'Занимаетесь спортом?_Нет',\n",
      "       'Выпиваете алкоголь_Нет', 'Выпиваете алкоголь_Редко',\n",
      "       'Формат работы_Не работаю', 'Формат работы_Офис',\n",
      "       'Формат работы_Посменно', 'Формат работы_Удаленка',\n",
      "       'Любите сладкое?_Нет', 'Любимое время года?_Зима',\n",
      "       'Любимое время года?_Лето', 'Любимое время года?_Осень',\n",
      "       'Что пьют родители_Чай', 'Что пьют родители_Чай и кофе',\n",
      "       'Какие напитки любите_Холодные', 'Азартен?_Нет'],\n",
      "      dtype='object')\n"
     ]
    },
    {
     "data": {
      "text/plain": "    Возраст  Сколько спите ночью в среднем  Время подъема  Ваш пол_Мужской  \\\n0  0.333333                            1.0            0.8            False   \n1  0.333333                            0.2            0.2             True   \n2  0.333333                            0.2            0.3             True   \n3  0.333333                            0.2            0.8             True   \n4  0.000000                            0.6            0.4             True   \n\n   Характер_Сангвиник  Характер_Флегматик  Характер_Холерик  \\\n0               False               False              True   \n1               False               False              True   \n2               False               False             False   \n3               False                True             False   \n4               False                True             False   \n\n   Что вы предпочитаете?_Чай  \\\n0                      False   \n1                       True   \n2                      False   \n3                       True   \n4                       True   \n\n   Как часто вы берете инициативу в свои руки?_Очень часто  \\\n0                                              False         \n1                                              False         \n2                                              False         \n3                                              False         \n4                                              False         \n\n   Как часто вы берете инициативу в свои руки?_Периодически  ...  \\\n0                                               True         ...   \n1                                              False         ...   \n2                                              False         ...   \n3                                              False         ...   \n4                                              False         ...   \n\n   Формат работы_Посменно  Формат работы_Удаленка  Любите сладкое?_Нет  \\\n0                   False                   False                False   \n1                   False                    True                 True   \n2                   False                   False                 True   \n3                   False                   False                False   \n4                   False                    True                False   \n\n   Любимое время года?_Зима  Любимое время года?_Лето  \\\n0                     False                     False   \n1                     False                     False   \n2                     False                     False   \n3                     False                      True   \n4                     False                     False   \n\n   Любимое время года?_Осень  Что пьют родители_Чай  \\\n0                      False                  False   \n1                      False                   True   \n2                      False                  False   \n3                      False                  False   \n4                       True                  False   \n\n   Что пьют родители_Чай и кофе  Какие напитки любите_Холодные  Азартен?_Нет  \n0                          True                           True          True  \n1                         False                           True         False  \n2                         False                           True          True  \n3                          True                           True          True  \n4                          True                          False          True  \n\n[5 rows x 41 columns]",
      "text/html": "<div>\n<style scoped>\n    .dataframe tbody tr th:only-of-type {\n        vertical-align: middle;\n    }\n\n    .dataframe tbody tr th {\n        vertical-align: top;\n    }\n\n    .dataframe thead th {\n        text-align: right;\n    }\n</style>\n<table border=\"1\" class=\"dataframe\">\n  <thead>\n    <tr style=\"text-align: right;\">\n      <th></th>\n      <th>Возраст</th>\n      <th>Сколько спите ночью в среднем</th>\n      <th>Время подъема</th>\n      <th>Ваш пол_Мужской</th>\n      <th>Характер_Сангвиник</th>\n      <th>Характер_Флегматик</th>\n      <th>Характер_Холерик</th>\n      <th>Что вы предпочитаете?_Чай</th>\n      <th>Как часто вы берете инициативу в свои руки?_Очень часто</th>\n      <th>Как часто вы берете инициативу в свои руки?_Периодически</th>\n      <th>...</th>\n      <th>Формат работы_Посменно</th>\n      <th>Формат работы_Удаленка</th>\n      <th>Любите сладкое?_Нет</th>\n      <th>Любимое время года?_Зима</th>\n      <th>Любимое время года?_Лето</th>\n      <th>Любимое время года?_Осень</th>\n      <th>Что пьют родители_Чай</th>\n      <th>Что пьют родители_Чай и кофе</th>\n      <th>Какие напитки любите_Холодные</th>\n      <th>Азартен?_Нет</th>\n    </tr>\n  </thead>\n  <tbody>\n    <tr>\n      <th>0</th>\n      <td>0.333333</td>\n      <td>1.0</td>\n      <td>0.8</td>\n      <td>False</td>\n      <td>False</td>\n      <td>False</td>\n      <td>True</td>\n      <td>False</td>\n      <td>False</td>\n      <td>True</td>\n      <td>...</td>\n      <td>False</td>\n      <td>False</td>\n      <td>False</td>\n      <td>False</td>\n      <td>False</td>\n      <td>False</td>\n      <td>False</td>\n      <td>True</td>\n      <td>True</td>\n      <td>True</td>\n    </tr>\n    <tr>\n      <th>1</th>\n      <td>0.333333</td>\n      <td>0.2</td>\n      <td>0.2</td>\n      <td>True</td>\n      <td>False</td>\n      <td>False</td>\n      <td>True</td>\n      <td>True</td>\n      <td>False</td>\n      <td>False</td>\n      <td>...</td>\n      <td>False</td>\n      <td>True</td>\n      <td>True</td>\n      <td>False</td>\n      <td>False</td>\n      <td>False</td>\n      <td>True</td>\n      <td>False</td>\n      <td>True</td>\n      <td>False</td>\n    </tr>\n    <tr>\n      <th>2</th>\n      <td>0.333333</td>\n      <td>0.2</td>\n      <td>0.3</td>\n      <td>True</td>\n      <td>False</td>\n      <td>False</td>\n      <td>False</td>\n      <td>False</td>\n      <td>False</td>\n      <td>False</td>\n      <td>...</td>\n      <td>False</td>\n      <td>False</td>\n      <td>True</td>\n      <td>False</td>\n      <td>False</td>\n      <td>False</td>\n      <td>False</td>\n      <td>False</td>\n      <td>True</td>\n      <td>True</td>\n    </tr>\n    <tr>\n      <th>3</th>\n      <td>0.333333</td>\n      <td>0.2</td>\n      <td>0.8</td>\n      <td>True</td>\n      <td>False</td>\n      <td>True</td>\n      <td>False</td>\n      <td>True</td>\n      <td>False</td>\n      <td>False</td>\n      <td>...</td>\n      <td>False</td>\n      <td>False</td>\n      <td>False</td>\n      <td>False</td>\n      <td>True</td>\n      <td>False</td>\n      <td>False</td>\n      <td>True</td>\n      <td>True</td>\n      <td>True</td>\n    </tr>\n    <tr>\n      <th>4</th>\n      <td>0.000000</td>\n      <td>0.6</td>\n      <td>0.4</td>\n      <td>True</td>\n      <td>False</td>\n      <td>True</td>\n      <td>False</td>\n      <td>True</td>\n      <td>False</td>\n      <td>False</td>\n      <td>...</td>\n      <td>False</td>\n      <td>True</td>\n      <td>False</td>\n      <td>False</td>\n      <td>False</td>\n      <td>True</td>\n      <td>False</td>\n      <td>True</td>\n      <td>False</td>\n      <td>True</td>\n    </tr>\n  </tbody>\n</table>\n<p>5 rows × 41 columns</p>\n</div>"
     },
     "execution_count": 51,
     "metadata": {},
     "output_type": "execute_result"
    }
   ],
   "source": [
    "numeric_cols = ['Возраст', 'Сколько спите ночью в среднем', 'Время подъема']\n",
    "categorical_cols = [col for col in df.columns if col not in numeric_cols]\n",
    "data_encoded = pd.get_dummies(df, columns=categorical_cols, drop_first=True)\n",
    "print(data_encoded.columns)\n",
    "\n",
    "for col in numeric_cols: # Min-max normalization\n",
    "    data_encoded[col] = (data_encoded[col] - data_encoded[col].min()) / (\n",
    "            data_encoded[col].max() - data_encoded[col].min())\n",
    "data_encoded.head()"
   ],
   "metadata": {
    "collapsed": false,
    "ExecuteTime": {
     "end_time": "2024-10-04T15:34:34.793565Z",
     "start_time": "2024-10-04T15:34:34.751734Z"
    }
   },
   "id": "187d4264f7367242"
  },
  {
   "cell_type": "code",
   "execution_count": 52,
   "outputs": [
    {
     "name": "stdout",
     "output_type": "stream",
     "text": [
      "<class 'pandas.core.frame.DataFrame'>\n",
      "RangeIndex: 38 entries, 0 to 37\n",
      "Data columns (total 41 columns):\n",
      " #   Column                                                    Non-Null Count  Dtype  \n",
      "---  ------                                                    --------------  -----  \n",
      " 0   Возраст                                                   38 non-null     float64\n",
      " 1   Сколько спите ночью в среднем                             38 non-null     float64\n",
      " 2   Время подъема                                             38 non-null     float64\n",
      " 3   Ваш пол_Мужской                                           38 non-null     bool   \n",
      " 4   Характер_Сангвиник                                        38 non-null     bool   \n",
      " 5   Характер_Флегматик                                        38 non-null     bool   \n",
      " 6   Характер_Холерик                                          38 non-null     bool   \n",
      " 7   Что вы предпочитаете?_Чай                                 38 non-null     bool   \n",
      " 8   Как часто вы берете инициативу в свои руки?_Очень часто   38 non-null     bool   \n",
      " 9   Как часто вы берете инициативу в свои руки?_Периодически  38 non-null     bool   \n",
      " 10  Как часто вы берете инициативу в свои руки?_Редко         38 non-null     bool   \n",
      " 11  Как часто вы берете инициативу в свои руки?_Часто         38 non-null     bool   \n",
      " 12  Как часто вы пропускаете завтраки?_Очень часто            38 non-null     bool   \n",
      " 13  Как часто вы пропускаете завтраки?_Периодически           38 non-null     bool   \n",
      " 14  Как часто вы пропускаете завтраки?_Редко                  38 non-null     bool   \n",
      " 15  Как часто вы пропускаете завтраки?_Часто                  38 non-null     bool   \n",
      " 16  Гипертония_Нет                                            38 non-null     bool   \n",
      " 17  Курите?_Нет                                               38 non-null     bool   \n",
      " 18  Пьете энергетики?_Нет                                     38 non-null     bool   \n",
      " 19  Бывают ли проблемы со сном?_Нет                           38 non-null     bool   \n",
      " 20  Повышенная тревожность?_Нет                               38 non-null     bool   \n",
      " 21  Проблемы с концентрацией_Нет                              38 non-null     bool   \n",
      " 22  Наличие кофейни возле дома_Нет                            38 non-null     bool   \n",
      " 23  Какая культура ближе_Запад                                38 non-null     bool   \n",
      " 24  Какая культура ближе_Не знаю                              38 non-null     bool   \n",
      " 25  Любишь ли горькое_Нет                                     38 non-null     bool   \n",
      " 26  Занимаетесь спортом?_Нет                                  38 non-null     bool   \n",
      " 27  Выпиваете алкоголь_Нет                                    38 non-null     bool   \n",
      " 28  Выпиваете алкоголь_Редко                                  38 non-null     bool   \n",
      " 29  Формат работы_Не работаю                                  38 non-null     bool   \n",
      " 30  Формат работы_Офис                                        38 non-null     bool   \n",
      " 31  Формат работы_Посменно                                    38 non-null     bool   \n",
      " 32  Формат работы_Удаленка                                    38 non-null     bool   \n",
      " 33  Любите сладкое?_Нет                                       38 non-null     bool   \n",
      " 34  Любимое время года?_Зима                                  38 non-null     bool   \n",
      " 35  Любимое время года?_Лето                                  38 non-null     bool   \n",
      " 36  Любимое время года?_Осень                                 38 non-null     bool   \n",
      " 37  Что пьют родители_Чай                                     38 non-null     bool   \n",
      " 38  Что пьют родители_Чай и кофе                              38 non-null     bool   \n",
      " 39  Какие напитки любите_Холодные                             38 non-null     bool   \n",
      " 40  Азартен?_Нет                                              38 non-null     bool   \n",
      "dtypes: bool(38), float64(3)\n",
      "memory usage: 2.4 KB\n"
     ]
    }
   ],
   "source": [
    "data_encoded.info()"
   ],
   "metadata": {
    "collapsed": false,
    "ExecuteTime": {
     "end_time": "2024-10-04T15:34:56.712497Z",
     "start_time": "2024-10-04T15:34:56.661587Z"
    }
   },
   "id": "8bd2fec43149d5cd"
  },
  {
   "cell_type": "code",
   "execution_count": 53,
   "outputs": [],
   "source": [
    "X = data_encoded.drop('Что вы предпочитаете?_Чай', axis=1).values\n",
    "Y = data_encoded['Что вы предпочитаете?_Чай'].values"
   ],
   "metadata": {
    "collapsed": false,
    "ExecuteTime": {
     "end_time": "2024-10-04T15:35:22.254143Z",
     "start_time": "2024-10-04T15:35:22.236551Z"
    }
   },
   "id": "444432df409edf01"
  },
  {
   "cell_type": "code",
   "execution_count": 54,
   "outputs": [],
   "source": [
    "X_train, X_test, y_train, y_test = train_test_split(X, Y, test_size=0.20)"
   ],
   "metadata": {
    "collapsed": false,
    "ExecuteTime": {
     "end_time": "2024-10-04T15:35:38.854415Z",
     "start_time": "2024-10-04T15:35:38.838619Z"
    }
   },
   "id": "2b98a90b771a3278"
  },
  {
   "cell_type": "code",
   "execution_count": 56,
   "outputs": [
    {
     "name": "stdout",
     "output_type": "stream",
     "text": [
      "K:1, accuracy: 0.50\n",
      "K:2, accuracy: 0.50\n",
      "K:3, accuracy: 0.50\n",
      "K:4, accuracy: 0.62\n",
      "K:5, accuracy: 0.38\n",
      "K:6, accuracy: 0.50\n",
      "K:7, accuracy: 0.38\n",
      "K:8, accuracy: 0.38\n",
      "K:9, accuracy: 0.38\n",
      "K:10, accuracy: 0.38\n",
      "K:11, accuracy: 0.38\n",
      "K:12, accuracy: 0.38\n",
      "K:13, accuracy: 0.38\n",
      "K:14, accuracy: 0.38\n",
      "K:15, accuracy: 0.38\n",
      "K:16, accuracy: 0.38\n",
      "K:17, accuracy: 0.38\n",
      "K:18, accuracy: 0.38\n",
      "K:19, accuracy: 0.38\n",
      "K:20, accuracy: 0.38\n",
      "K:21, accuracy: 0.38\n",
      "K:22, accuracy: 0.38\n",
      "K:23, accuracy: 0.38\n",
      "K:24, accuracy: 0.38\n",
      "K:25, accuracy: 0.38\n",
      "K:26, accuracy: 0.38\n",
      "K:27, accuracy: 0.38\n",
      "K:28, accuracy: 0.38\n",
      "K:29, accuracy: 0.38\n",
      "K:30, accuracy: 0.38\n",
      "K:31, accuracy: 0.38\n",
      "K:32, accuracy: 0.38\n",
      "K:33, accuracy: 0.38\n",
      "K:34, accuracy: 0.38\n",
      "K:35, accuracy: 0.38\n",
      "K:36, accuracy: 0.38\n",
      "K:37, accuracy: 0.38\n",
      "K:38, accuracy: 0.38\n",
      "K:39, accuracy: 0.38\n",
      "K:40, accuracy: 0.38\n",
      "K:41, accuracy: 0.38\n",
      "K:42, accuracy: 0.38\n",
      "K:43, accuracy: 0.38\n",
      "K:44, accuracy: 0.38\n",
      "K:45, accuracy: 0.38\n",
      "K:46, accuracy: 0.38\n",
      "K:47, accuracy: 0.38\n",
      "K:48, accuracy: 0.38\n",
      "K:49, accuracy: 0.38\n",
      "K:50, accuracy: 0.38\n",
      "K:51, accuracy: 0.38\n",
      "K:52, accuracy: 0.38\n",
      "K:53, accuracy: 0.38\n",
      "K:54, accuracy: 0.38\n",
      "K:55, accuracy: 0.38\n",
      "K:56, accuracy: 0.38\n",
      "K:57, accuracy: 0.38\n",
      "K:58, accuracy: 0.38\n",
      "K:59, accuracy: 0.38\n",
      "K:60, accuracy: 0.38\n",
      "K:61, accuracy: 0.38\n",
      "K:62, accuracy: 0.38\n",
      "K:63, accuracy: 0.38\n",
      "K:64, accuracy: 0.38\n",
      "K:65, accuracy: 0.38\n",
      "K:66, accuracy: 0.38\n",
      "K:67, accuracy: 0.38\n",
      "K:68, accuracy: 0.38\n",
      "K:69, accuracy: 0.38\n",
      "K:70, accuracy: 0.38\n",
      "K:71, accuracy: 0.38\n",
      "K:72, accuracy: 0.38\n",
      "K:73, accuracy: 0.38\n",
      "K:74, accuracy: 0.38\n",
      "K:75, accuracy: 0.38\n",
      "K:76, accuracy: 0.38\n",
      "K:77, accuracy: 0.38\n",
      "K:78, accuracy: 0.38\n",
      "K:79, accuracy: 0.38\n",
      "K:80, accuracy: 0.38\n",
      "K:81, accuracy: 0.38\n",
      "K:82, accuracy: 0.38\n",
      "K:83, accuracy: 0.38\n",
      "K:84, accuracy: 0.38\n",
      "K:85, accuracy: 0.38\n",
      "K:86, accuracy: 0.38\n",
      "K:87, accuracy: 0.38\n",
      "K:88, accuracy: 0.38\n",
      "K:89, accuracy: 0.38\n",
      "K:90, accuracy: 0.38\n",
      "K:91, accuracy: 0.38\n",
      "K:92, accuracy: 0.38\n",
      "K:93, accuracy: 0.38\n",
      "K:94, accuracy: 0.38\n",
      "K:95, accuracy: 0.38\n",
      "K:96, accuracy: 0.38\n",
      "K:97, accuracy: 0.38\n",
      "K:98, accuracy: 0.38\n",
      "K:99, accuracy: 0.38\n",
      "K:100, accuracy: 0.38\n",
      "Best k: 4, accuracy 0.62\n"
     ]
    }
   ],
   "source": [
    "import math\n",
    "from collections import Counter\n",
    "from typing import List, Tuple\n",
    "\n",
    "\n",
    "class KNNClassifier:\n",
    "    def __init__(self, k: int):\n",
    "        self.k = k\n",
    "        self.X_train = None\n",
    "        self.y_train = None\n",
    "\n",
    "    @staticmethod\n",
    "    def euclidean_distance(point1: List[float], point2: List[float]) -> float: # Calculate the Euclidean distance between two points.\n",
    "        return math.sqrt(sum((p1 - p2) ** 2 for p1, p2 in zip(point1, point2)))\n",
    "\n",
    "    def fit(self, X_train: List[List[float]], y_train: List[int]): # Fit the model using the training data.\n",
    "        self.X_train = X_train\n",
    "        self.y_train = y_train\n",
    "\n",
    "    def predict(self, X_test: List[List[float]]) -> List[int]:\n",
    "        predictions = []\n",
    "        for test_point in X_test:\n",
    "            distances = [\n",
    "                (self.euclidean_distance(train_point, test_point), label)\n",
    "                for train_point, label in zip(self.X_train, self.y_train)\n",
    "            ]\n",
    "            # Sort distances and get the k nearest neighbors\n",
    "            k_nearest_neighbors = sorted(distances, key=lambda x: x[0])[:self.k]\n",
    "\n",
    "            # Get the most common label among the k nearest neighbors\n",
    "            k_nearest_labels = [neighbor[1] for neighbor in k_nearest_neighbors]\n",
    "            most_common_label = Counter(k_nearest_labels).most_common(1)[0][0]\n",
    "            predictions.append(most_common_label)\n",
    "\n",
    "        return predictions\n",
    "\n",
    "    @staticmethod\n",
    "    def accuracy(y_true: List[int], y_pred: List[int]) -> float: # Calculate the accuracy of predictions\n",
    "        correct_count = sum(1 for true, pred in zip(y_true, y_pred) if true == pred)\n",
    "        return correct_count / len(y_true)\n",
    "\n",
    "\n",
    "def find_best_k(X_train: List[List[float]], y_train: List[int], \n",
    "                X_test: List[List[float]], y_test: List[int], max_k: int) -> Tuple[int, float]:\n",
    "    best_k = 1\n",
    "    best_accuracy = 0.0\n",
    "    \n",
    "    for k in range(1, max_k + 1):\n",
    "        knn_classifier = KNNClassifier(k)\n",
    "        knn_classifier.fit(X_train, y_train)\n",
    "        \n",
    "        predictions = knn_classifier.predict(X_test)\n",
    "        acc = knn_classifier.accuracy(y_test, predictions)\n",
    "        \n",
    "        print(f\"K:{k}, accuracy: {acc:.2f}\")\n",
    "\n",
    "        if acc > best_accuracy:\n",
    "            best_accuracy = acc\n",
    "            best_k = k\n",
    "\n",
    "    return best_k, best_accuracy\n",
    "\n",
    "\n",
    "max_k_value = 100\n",
    "best_k_value, best_accuracy_value = find_best_k(X_train, y_train, X_test, y_test, max_k_value)\n",
    "print(f\"Best k: {best_k_value}: accuracy {best_accuracy_value:.2f}\")"
   ],
   "metadata": {
    "collapsed": false,
    "ExecuteTime": {
     "end_time": "2024-10-04T15:38:11.708079Z",
     "start_time": "2024-10-04T15:38:11.455024Z"
    }
   },
   "id": "7ff87fe4c4c29533"
  },
  {
   "cell_type": "code",
   "execution_count": null,
   "outputs": [],
   "source": [],
   "metadata": {
    "collapsed": false
   },
   "id": "9f36af7e8c28587f"
  }
 ],
 "metadata": {
  "kernelspec": {
   "display_name": "Python 3",
   "language": "python",
   "name": "python3"
  },
  "language_info": {
   "codemirror_mode": {
    "name": "ipython",
    "version": 2
   },
   "file_extension": ".py",
   "mimetype": "text/x-python",
   "name": "python",
   "nbconvert_exporter": "python",
   "pygments_lexer": "ipython2",
   "version": "2.7.6"
  }
 },
 "nbformat": 4,
 "nbformat_minor": 5
}
